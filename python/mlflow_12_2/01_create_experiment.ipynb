{
 "cells": [
  {
   "cell_type": "markdown",
   "id": "47504034",
   "metadata": {},
   "source": [
    "# Objective\n",
    "The objetive of this notebook is to create a MLflow experiment. This experiment will group different MLflow runs with the goal of finding the most suitable model to forecast cement production data."
   ]
  },
  {
   "cell_type": "markdown",
   "metadata": {},
   "source": [
    "# Imports"
   ]
  },
  {
   "cell_type": "code",
   "execution_count": 6,
   "metadata": {},
   "outputs": [],
   "source": [
    "import mlflow\n",
    "from pprint import pprint"
   ]
  },
  {
   "cell_type": "markdown",
   "metadata": {},
   "source": [
    "# Create experiment"
   ]
  },
  {
   "cell_type": "code",
   "execution_count": 3,
   "metadata": {},
   "outputs": [],
   "source": [
    "experiment_description = (\n",
    "    \"Project about cement production forecasting. \"\n",
    "    \"This experiment contains several forecasting models.\"\n",
    ")\n",
    "experiment_tags = {\n",
    "    \"project_name\": \"forecasting\",\n",
    "    \"mlflow.note.content\": experiment_description,\n",
    "}\n",
    "experiment_name = \"Cement_Forecasting\"\n",
    "\n",
    "experiment = mlflow.create_experiment(\n",
    "    name=experiment_name, \n",
    "    tags=experiment_tags,\n",
    ")"
   ]
  },
  {
   "cell_type": "markdown",
   "metadata": {},
   "source": [
    "# Search experiment\n",
    "Lets search the experiment using a tag."
   ]
  },
  {
   "cell_type": "code",
   "execution_count": 7,
   "metadata": {},
   "outputs": [
    {
     "name": "stdout",
     "output_type": "stream",
     "text": [
      "{'_artifact_location': 'file:///home/santiagopalmero/repos/fpp3package/python/mlflow/mlruns/570366757150847423',\n",
      " '_creation_time': 1701436591943,\n",
      " '_experiment_id': '570366757150847423',\n",
      " '_last_update_time': 1701436591943,\n",
      " '_lifecycle_stage': 'active',\n",
      " '_name': 'Cement_Forecasting',\n",
      " '_tags': {'mlflow.note.content': 'Project about cement production '\n",
      "                                  'forecasting. This experiment contains '\n",
      "                                  'several forecasting models.',\n",
      "           'project_name': 'forecasting'}}\n"
     ]
    }
   ],
   "source": [
    "experiments = mlflow.search_experiments(\n",
    "    filter_string=\"tags.`project_name` = 'forecasting'\"\n",
    ")\n",
    "\n",
    "pprint(vars(experiments[0]))"
   ]
  },
  {
   "cell_type": "markdown",
   "metadata": {},
   "source": [
    "Lets now search de experiment by name."
   ]
  },
  {
   "cell_type": "code",
   "execution_count": 15,
   "metadata": {},
   "outputs": [
    {
     "name": "stdout",
     "output_type": "stream",
     "text": [
      "{'_artifact_location': 'file:///home/santiagopalmero/repos/fpp3package/python/mlflow/mlruns/570366757150847423',\n",
      " '_creation_time': 1701436591943,\n",
      " '_experiment_id': '570366757150847423',\n",
      " '_last_update_time': 1701436591943,\n",
      " '_lifecycle_stage': 'active',\n",
      " '_name': 'Cement_Forecasting',\n",
      " '_tags': {'mlflow.note.content': 'Project about cement production '\n",
      "                                  'forecasting. This experiment contains '\n",
      "                                  'several forecasting models.',\n",
      "           'project_name': 'forecasting'}}\n"
     ]
    }
   ],
   "source": [
    "experiments = mlflow.search_experiments(\n",
    "    filter_string=f\"attribute.`name` = '{experiment_name}'\"\n",
    ")\n",
    "\n",
    "pprint(vars(experiments[0]))"
   ]
  }
 ],
 "metadata": {
  "kernelspec": {
   "display_name": "Python 3 (ipykernel)",
   "language": "python",
   "name": "python3"
  },
  "language_info": {
   "codemirror_mode": {
    "name": "ipython",
    "version": 3
   },
   "file_extension": ".py",
   "mimetype": "text/x-python",
   "name": "python",
   "nbconvert_exporter": "python",
   "pygments_lexer": "ipython3",
   "version": "3.10.13"
  }
 },
 "nbformat": 4,
 "nbformat_minor": 5
}
