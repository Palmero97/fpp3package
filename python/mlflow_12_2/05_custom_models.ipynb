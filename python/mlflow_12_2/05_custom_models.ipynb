{
 "cells": [
  {
   "cell_type": "markdown",
   "id": "47504034",
   "metadata": {},
   "source": [
    "# Objective\n",
    "The objetive of this notebook is to create models to forecast our cement production data and wrap them within a [Custom Python Model](https://mlflow.org/docs/latest/models.html#custom-python-models). As we saw previously the default statsmodels flavour did not provide as with confidence or prediction intervals. In this notebook we will develop custom Python Models to solve that issue.\n",
    "\n",
    "# Description of the data\n",
    "The dataset is quaterly cement production data."
   ]
  },
  {
   "cell_type": "markdown",
   "metadata": {},
   "source": [
    "# Imports, configuration and constants"
   ]
  },
  {
   "cell_type": "code",
   "execution_count": 11,
   "id": "5295ea00",
   "metadata": {},
   "outputs": [],
   "source": [
    "import matplotlib.pyplot as plt\n",
    "import mlflow\n",
    "import pandas as pd\n",
    "import statsmodels\n",
    "import cloudpickle\n",
    "\n",
    "from sys import version_info\n",
    "from mlflow.models import infer_signature\n",
    "from prophet import Prophet\n",
    "from sklearn.metrics import mean_squared_error\n",
    "from sklearn.metrics import mean_absolute_error\n",
    "from sklearn.metrics import mean_absolute_percentage_error\n",
    "from statsmodels.tsa.exponential_smoothing.ets import ETSModel\n",
    "from statsmodels.tsa.arima.model import ARIMA\n",
    "from statsmodels.tsa.statespace.sarimax import SARIMAX\n",
    "\n",
    "import utils as ut"
   ]
  },
  {
   "cell_type": "code",
   "execution_count": 2,
   "id": "f825f39a",
   "metadata": {},
   "outputs": [
    {
     "data": {
      "text/plain": [
       "<module 'utils' from '/home/santiagopalmero/repos/fpp3package/python/mlflow_12_2/utils.py'>"
      ]
     },
     "execution_count": 2,
     "metadata": {},
     "output_type": "execute_result"
    }
   ],
   "source": [
    "import importlib\n",
    "importlib.reload(ut)"
   ]
  },
  {
   "cell_type": "code",
   "execution_count": 3,
   "id": "71626d10",
   "metadata": {},
   "outputs": [],
   "source": [
    "plt.rc(\"figure\", figsize=(16, 12))\n",
    "plt.rc(\"font\", size=13)"
   ]
  },
  {
   "cell_type": "code",
   "execution_count": 4,
   "id": "dd4ec813",
   "metadata": {},
   "outputs": [],
   "source": [
    "PLOT_TITLE = \"AUS cement production\"\n",
    "PLOT_YLABEL = \"Cement\"\n",
    "PLOT_XLABEL = \"Quarter\"\n",
    "\n",
    "PLOT_KWARGS = {\n",
    "    \"title\": PLOT_TITLE,\n",
    "    \"ylabel\": PLOT_YLABEL,\n",
    "    \"xlabel\": PLOT_XLABEL,\n",
    "}"
   ]
  },
  {
   "cell_type": "markdown",
   "id": "97aaad73",
   "metadata": {},
   "source": [
    "# Load data"
   ]
  },
  {
   "cell_type": "code",
   "execution_count": 5,
   "id": "ece14a7d",
   "metadata": {},
   "outputs": [],
   "source": [
    "ts_train = ut.read_csv_series(\"data/ts_train.csv\")\n",
    "ts_test = ut.read_csv_series(\"data/ts_test.csv\")"
   ]
  },
  {
   "cell_type": "code",
   "execution_count": 6,
   "id": "2704b8fd",
   "metadata": {},
   "outputs": [],
   "source": [
    "ts_train.index = pd.to_datetime(ts_train.index)\n",
    "ts_train = ts_train.asfreq('QS-OCT')\n",
    "\n",
    "ts_test.index = pd.to_datetime(ts_test.index)\n",
    "ts_test = ts_test.asfreq('QS-OCT')"
   ]
  },
  {
   "cell_type": "markdown",
   "id": "77948afa",
   "metadata": {},
   "source": [
    "# Set experiment"
   ]
  },
  {
   "cell_type": "code",
   "execution_count": 7,
   "id": "ffa874fd",
   "metadata": {},
   "outputs": [
    {
     "data": {
      "text/plain": [
       "<Experiment: artifact_location='file:///home/santiagopalmero/repos/fpp3package/python/mlflow/mlruns/570366757150847423', creation_time=1701436591943, experiment_id='570366757150847423', last_update_time=1701436591943, lifecycle_stage='active', name='Cement_Forecasting', tags={'mlflow.note.content': 'Project about cement production forecasting. This '\n",
       "                        'experiment contains several forecasting models.',\n",
       " 'project_name': 'forecasting'}>"
      ]
     },
     "execution_count": 7,
     "metadata": {},
     "output_type": "execute_result"
    }
   ],
   "source": [
    "mlflow.set_experiment(\"Cement_Forecasting\")"
   ]
  },
  {
   "cell_type": "markdown",
   "id": "bb326b4c",
   "metadata": {},
   "source": [
    "# Forecasting\n",
    "\n",
    "## ARIMA\n",
    "\n",
    "From the https://otexts.com/fpp3/arima-ets.html#comparing-arima-and-ets-on-seasonal-data section we know that the model that was used is `ARIMA(1,0,1)(2,1,1)[4] w/ drift`.\n",
    "\n",
    "The drift concept is better explained in the previous version of the book https://otexts.com/fpp2/arima-r.html. In this link we can see an explanation about the drift in statsmodels https://stackoverflow.com/questions/66651360/arima-forecast-gives-different-results-with-new-python-statsmodels.\n",
    "\n",
    "There are [differences in implementation](https://www.statsmodels.org/dev/examples/notebooks/generated/statespace_sarimax_faq.html#Differences-between-trend-and-exog-in-SARIMAX) between the class `ARIMA` and `SARIMAX`. As we have seen previously, `SARIMAX` is the one that corresponds to the book. "
   ]
  },
  {
   "cell_type": "code",
   "execution_count": 23,
   "id": "3961cd9a",
   "metadata": {},
   "outputs": [
    {
     "name": "stderr",
     "output_type": "stream",
     "text": [
      " This problem is unconstrained.\n"
     ]
    },
    {
     "name": "stdout",
     "output_type": "stream",
     "text": [
      "RUNNING THE L-BFGS-B CODE\n",
      "\n",
      "           * * *\n",
      "\n",
      "Machine precision = 2.220D-16\n",
      " N =            7     M =           10\n",
      "\n",
      "At X0         0 variables are exactly at the bounds\n",
      "\n",
      "At iterate    0    f=  5.93161D+00    |proj g|=  2.14605D-01\n",
      "\n",
      "At iterate    5    f=  5.85403D+00    |proj g|=  3.80578D-02\n",
      "\n",
      "At iterate   10    f=  5.85147D+00    |proj g|=  1.37646D-02\n",
      "\n",
      "At iterate   15    f=  5.85027D+00    |proj g|=  3.39077D-02\n",
      "\n",
      "At iterate   20    f=  5.82684D+00    |proj g|=  1.33501D-01\n",
      "\n",
      "At iterate   25    f=  5.80155D+00    |proj g|=  5.88010D-03\n",
      "\n",
      "At iterate   30    f=  5.79975D+00    |proj g|=  6.18598D-03\n",
      "\n",
      "At iterate   35    f=  5.79736D+00    |proj g|=  3.61733D-03\n",
      "\n",
      "At iterate   40    f=  5.79388D+00    |proj g|=  1.10395D-02\n",
      "\n",
      "At iterate   45    f=  5.78620D+00    |proj g|=  2.96676D-02\n",
      "\n",
      "At iterate   50    f=  5.78534D+00    |proj g|=  4.97323D-04\n",
      "\n",
      "           * * *\n",
      "\n",
      "Tit   = total number of iterations\n",
      "Tnf   = total number of function evaluations\n",
      "Tnint = total number of segments explored during Cauchy searches\n",
      "Skip  = number of BFGS updates skipped\n",
      "Nact  = number of active bounds at final generalized Cauchy point\n",
      "Projg = norm of the final projected gradient\n",
      "F     = final function value\n",
      "\n",
      "           * * *\n",
      "\n",
      "   N    Tit     Tnf  Tnint  Skip  Nact     Projg        F\n",
      "    7     50     63      1     0     0   4.973D-04   5.785D+00\n",
      "  F =   5.7853441806304939     \n",
      "\n",
      "STOP: TOTAL NO. of ITERATIONS REACHED LIMIT                 \n"
     ]
    },
    {
     "name": "stderr",
     "output_type": "stream",
     "text": [
      "/home/santiagopalmero/miniconda3/envs/fpp3/lib/python3.10/site-packages/statsmodels/base/model.py:607: ConvergenceWarning: Maximum Likelihood optimization failed to converge. Check mle_retvals\n",
      "  warnings.warn(\"Maximum Likelihood optimization failed to \"\n"
     ]
    }
   ],
   "source": [
    "order = (1,0,1)\n",
    "seasonal_order = (2,1,1,4)\n",
    "\n",
    "sarimax = SARIMAX(\n",
    "    endog=ts_train, \n",
    "    order=order, \n",
    "    seasonal_order=seasonal_order, \n",
    "    trend=\"c\",\n",
    ")\n",
    "res = sarimax.fit()\n",
    "\n",
    "ts_sarimax_h = res.predict(start=ts_test.index[0], end=ts_test.index[-1])\n",
    "\n",
    "rmse = mean_squared_error(ts_test, ts_sarimax_h, squared=False)\n",
    "mae = mean_absolute_error(ts_test, ts_sarimax_h)\n",
    "mape = mean_absolute_percentage_error(ts_test, ts_sarimax_h)"
   ]
  },
  {
   "cell_type": "code",
   "execution_count": 24,
   "id": "4ae13c61",
   "metadata": {},
   "outputs": [],
   "source": [
    "sarimax_model_path = \"sarimax.pickle\"\n",
    "artifacts = {\"SARIMAX_model\": sarimax_model_path}\n",
    "res.save(sarimax_model_path)"
   ]
  },
  {
   "cell_type": "code",
   "execution_count": 25,
   "id": "c9633bc8",
   "metadata": {},
   "outputs": [],
   "source": [
    "PYTHON_VERSION = (\n",
    "    f\"{version_info.major}.{version_info.minor}.{version_info.micro}\"\n",
    ")\n",
    "\n",
    "conda_env = {\n",
    "    \"channels\": [\"defaults\"],\n",
    "    \"dependencies\": [\n",
    "        f\"python={PYTHON_VERSION}\",\n",
    "        \"pip\",\n",
    "        {\n",
    "            \"pip\": [\n",
    "                f\"mlflow=={mlflow.__version__}\",\n",
    "                f\"statsmodels=={statsmodels.__version__}\",\n",
    "                f\"cloudpickle=={cloudpickle.__version__}\",\n",
    "            ],\n",
    "        },\n",
    "    ],\n",
    "    \"name\": \"sarimax_env\",\n",
    "}"
   ]
  },
  {
   "cell_type": "code",
   "execution_count": 40,
   "id": "1ae0bd5e",
   "metadata": {},
   "outputs": [],
   "source": [
    "class SARIMAXPythonModel(mlflow.pyfunc.PythonModel):\n",
    "    \n",
    "    def load_context(self, context):\n",
    "        from statsmodels.tsa.statespace.sarimax import SARIMAXResults\n",
    "        \n",
    "        self.res = SARIMAXResults.load(context.artifacts[\"SARIMAX_model\"])\n",
    "\n",
    "    def predict(self, context, model_input, params=None):\n",
    "        start = model_input[\"start\"].iloc[0]\n",
    "        end = model_input[\"end\"].iloc[0]\n",
    "        \n",
    "        pred = self.res.get_prediction(\n",
    "            start=start, \n",
    "            end=end,\n",
    "        )\n",
    "        \n",
    "        return pred.summary_frame(alpha=0.05)"
   ]
  },
  {
   "cell_type": "code",
   "execution_count": 41,
   "id": "7c7be6b6",
   "metadata": {},
   "outputs": [
    {
     "name": "stderr",
     "output_type": "stream",
     "text": [
      "Downloading artifacts: 100%|██████████████████████████████████████████████████████████████████| 1/1 [00:00<00:00, 70.40it/s]"
     ]
    },
    {
     "name": "stderr",
     "output_type": "stream",
     "text": [
      "\n",
      "/home/santiagopalmero/miniconda3/envs/fpp3/lib/python3.10/site-packages/_distutils_hack/__init__.py:18: UserWarning: Distutils was imported before Setuptools, but importing Setuptools also replaces the `distutils` module in `sys.modules`. This may lead to undesirable behaviors or errors. To avoid these issues, avoid using distutils directly, ensure that setuptools is installed in the traditional way (e.g. not an editable install), and/or make sure that setuptools is always imported before distutils.\n",
      "  warnings.warn(\n",
      "/home/santiagopalmero/miniconda3/envs/fpp3/lib/python3.10/site-packages/_distutils_hack/__init__.py:33: UserWarning: Setuptools is replacing distutils.\n",
      "  warnings.warn(\"Setuptools is replacing distutils.\")\n"
     ]
    }
   ],
   "source": [
    "with mlflow.start_run(run_name=\"sarimax\"):\n",
    "    mlflow.set_tag(\n",
    "        \"custom\", \n",
    "        \"Testing model development custom MLflow features.\",\n",
    "    )\n",
    "\n",
    "    mlflow.log_params(\n",
    "        {\n",
    "            \"order\": order,\n",
    "            \"seasonal_order\": sarimax.seasonal_order,\n",
    "            \"trend\": sarimax.trend,\n",
    "        }\n",
    "    )\n",
    "    mlflow.log_params(res.params)\n",
    "    mlflow.log_params({\"summary\": res.summary()})\n",
    "\n",
    "    mlflow.log_metric(\"rmse\", rmse)\n",
    "    mlflow.log_metric(\"mae\", mae)\n",
    "    mlflow.log_metric(\"mape\", mape)\n",
    "\n",
    "    mlflow_pyfunc_model_path = \"SARIMAX_pyfunc\"\n",
    "    mlflow.pyfunc.log_model(\n",
    "        artifact_path=mlflow_pyfunc_model_path,\n",
    "        python_model=SARIMAXPythonModel(),\n",
    "        artifacts=artifacts,\n",
    "        conda_env=conda_env,\n",
    "    )"
   ]
  },
  {
   "cell_type": "code",
   "execution_count": 42,
   "id": "1f2b763a",
   "metadata": {},
   "outputs": [],
   "source": [
    "sarimax_uri = \"runs:/6a2982bcc8484c6f907a899674235727/SARIMAX_pyfunc\"\n",
    "sarimax_pyfunc = mlflow.pyfunc.load_model(model_uri=sarimax_uri)"
   ]
  },
  {
   "cell_type": "code",
   "execution_count": 43,
   "id": "cf325c29",
   "metadata": {},
   "outputs": [
    {
     "data": {
      "text/html": [
       "<div>\n",
       "<style scoped>\n",
       "    .dataframe tbody tr th:only-of-type {\n",
       "        vertical-align: middle;\n",
       "    }\n",
       "\n",
       "    .dataframe tbody tr th {\n",
       "        vertical-align: top;\n",
       "    }\n",
       "\n",
       "    .dataframe thead th {\n",
       "        text-align: right;\n",
       "    }\n",
       "</style>\n",
       "<table border=\"1\" class=\"dataframe\">\n",
       "  <thead>\n",
       "    <tr style=\"text-align: right;\">\n",
       "      <th>y</th>\n",
       "      <th>mean</th>\n",
       "      <th>mean_se</th>\n",
       "      <th>mean_ci_lower</th>\n",
       "      <th>mean_ci_upper</th>\n",
       "    </tr>\n",
       "  </thead>\n",
       "  <tbody>\n",
       "    <tr>\n",
       "      <th>2008-01-01</th>\n",
       "      <td>2316.867722</td>\n",
       "      <td>102.281542</td>\n",
       "      <td>2116.399583</td>\n",
       "      <td>2517.335860</td>\n",
       "    </tr>\n",
       "    <tr>\n",
       "      <th>2008-04-01</th>\n",
       "      <td>2489.894004</td>\n",
       "      <td>121.780633</td>\n",
       "      <td>2251.208349</td>\n",
       "      <td>2728.579660</td>\n",
       "    </tr>\n",
       "    <tr>\n",
       "      <th>2008-07-01</th>\n",
       "      <td>2531.558849</td>\n",
       "      <td>134.862533</td>\n",
       "      <td>2267.233141</td>\n",
       "      <td>2795.884556</td>\n",
       "    </tr>\n",
       "    <tr>\n",
       "      <th>2008-10-01</th>\n",
       "      <td>2482.209738</td>\n",
       "      <td>144.097215</td>\n",
       "      <td>2199.784387</td>\n",
       "      <td>2764.635090</td>\n",
       "    </tr>\n",
       "    <tr>\n",
       "      <th>2009-01-01</th>\n",
       "      <td>2290.261027</td>\n",
       "      <td>157.396005</td>\n",
       "      <td>1981.770527</td>\n",
       "      <td>2598.751527</td>\n",
       "    </tr>\n",
       "    <tr>\n",
       "      <th>2009-04-01</th>\n",
       "      <td>2473.175645</td>\n",
       "      <td>165.513306</td>\n",
       "      <td>2148.775528</td>\n",
       "      <td>2797.575763</td>\n",
       "    </tr>\n",
       "    <tr>\n",
       "      <th>2009-07-01</th>\n",
       "      <td>2502.579827</td>\n",
       "      <td>171.477033</td>\n",
       "      <td>2166.491018</td>\n",
       "      <td>2838.668637</td>\n",
       "    </tr>\n",
       "    <tr>\n",
       "      <th>2009-10-01</th>\n",
       "      <td>2451.309548</td>\n",
       "      <td>175.899221</td>\n",
       "      <td>2106.553411</td>\n",
       "      <td>2796.065685</td>\n",
       "    </tr>\n",
       "    <tr>\n",
       "      <th>2010-01-01</th>\n",
       "      <td>2255.029916</td>\n",
       "      <td>177.084376</td>\n",
       "      <td>1907.950917</td>\n",
       "      <td>2602.108915</td>\n",
       "    </tr>\n",
       "    <tr>\n",
       "      <th>2010-04-01</th>\n",
       "      <td>2455.212408</td>\n",
       "      <td>178.363884</td>\n",
       "      <td>2105.625620</td>\n",
       "      <td>2804.799196</td>\n",
       "    </tr>\n",
       "  </tbody>\n",
       "</table>\n",
       "</div>"
      ],
      "text/plain": [
       "y                  mean     mean_se  mean_ci_lower  mean_ci_upper\n",
       "2008-01-01  2316.867722  102.281542    2116.399583    2517.335860\n",
       "2008-04-01  2489.894004  121.780633    2251.208349    2728.579660\n",
       "2008-07-01  2531.558849  134.862533    2267.233141    2795.884556\n",
       "2008-10-01  2482.209738  144.097215    2199.784387    2764.635090\n",
       "2009-01-01  2290.261027  157.396005    1981.770527    2598.751527\n",
       "2009-04-01  2473.175645  165.513306    2148.775528    2797.575763\n",
       "2009-07-01  2502.579827  171.477033    2166.491018    2838.668637\n",
       "2009-10-01  2451.309548  175.899221    2106.553411    2796.065685\n",
       "2010-01-01  2255.029916  177.084376    1907.950917    2602.108915\n",
       "2010-04-01  2455.212408  178.363884    2105.625620    2804.799196"
      ]
     },
     "execution_count": 43,
     "metadata": {},
     "output_type": "execute_result"
    }
   ],
   "source": [
    "start = pd.to_datetime(ts_test.index[0])\n",
    "end = pd.to_datetime(ts_test.index[-1])\n",
    "\n",
    "prediction_data = pd.DataFrame({\"start\": start, \"end\": end}, index=[0])\n",
    "\n",
    "sarimax_pyfunc.predict(prediction_data)"
   ]
  },
  {
   "cell_type": "markdown",
   "id": "87ba2b52",
   "metadata": {},
   "source": [
    "## ETS\n",
    "From the books example in https://otexts.com/fpp3/arima-ets.html we can see the type of ETS model finally selected is ETS(M,N,M). From the R documentation https://www.rdocumentation.org/packages/forecast/versions/8.21/topics/ets we know that:\n",
    "- The first letter denotes the error type (\"A\", \"M\" or \"Z\");\n",
    "- The second letter denotes the trend type (\"N\",\"A\",\"M\" or \"Z\")\n",
    "- The third letter denotes the season type (\"N\",\"A\",\"M\" or \"Z\").\n",
    "- In all cases, \"N\"=none, \"A\"=additive, \"M\"=multiplicative and \"Z\"=automatically selected"
   ]
  },
  {
   "cell_type": "code",
   "execution_count": 44,
   "id": "c0399e3e",
   "metadata": {},
   "outputs": [
    {
     "name": "stdout",
     "output_type": "stream",
     "text": [
      "RUNNING THE L-BFGS-B CODE\n",
      "\n",
      "           * * *\n",
      "\n",
      "Machine precision = 2.220D-16\n",
      " N =            6     M =           10\n",
      "\n",
      "At X0         0 variables are exactly at the bounds\n",
      "\n",
      "At iterate    0    f=  6.91324D+00    |proj g|=  2.15029D+00\n",
      "\n",
      "At iterate    1    f=  6.84699D+00    |proj g|=  1.65803D+00\n",
      "\n",
      "At iterate    2    f=  6.42640D+00    |proj g|=  4.69153D-01\n",
      "\n",
      "At iterate    3    f=  6.34069D+00    |proj g|=  4.86073D-01\n",
      "\n",
      "At iterate    4    f=  6.26445D+00    |proj g|=  4.72329D-01\n",
      "\n",
      "At iterate    5    f=  6.22885D+00    |proj g|=  3.81426D-01\n",
      "\n",
      "At iterate    6    f=  6.18920D+00    |proj g|=  2.63642D-01\n",
      "\n",
      "At iterate    7    f=  6.16398D+00    |proj g|=  4.70483D-01\n",
      "\n",
      "At iterate    8    f=  6.15694D+00    |proj g|=  2.18301D-01\n",
      "\n",
      "At iterate    9    f=  6.15418D+00    |proj g|=  9.72367D-02\n",
      "\n",
      "At iterate   10    f=  6.15325D+00    |proj g|=  6.66425D-02\n",
      "\n",
      "At iterate   11    f=  6.15227D+00    |proj g|=  6.25598D-02\n",
      "\n",
      "At iterate   12    f=  6.14968D+00    |proj g|=  9.14247D-02\n",
      "\n",
      "At iterate   13    f=  6.14792D+00    |proj g|=  8.17434D-02\n",
      "\n",
      "At iterate   14    f=  6.14453D+00    |proj g|=  1.45931D-01\n",
      "\n",
      "At iterate   15    f=  6.14215D+00    |proj g|=  2.48835D-01\n",
      "\n",
      "At iterate   16    f=  6.13816D+00    |proj g|=  6.15571D-01\n",
      "\n",
      "At iterate   17    f=  6.12260D+00    |proj g|=  5.20378D-01\n",
      "\n",
      "At iterate   18    f=  6.12260D+00    |proj g|=  5.17120D-01\n",
      "\n",
      "At iterate   19    f=  6.11738D+00    |proj g|=  4.85755D-01\n",
      "  Positive dir derivative in projection \n",
      "  Using the backtracking step \n",
      "\n",
      "At iterate   20    f=  6.11294D+00    |proj g|=  2.05450D-01\n",
      "\n",
      "At iterate   21    f=  6.11284D+00    |proj g|=  1.45031D-01\n",
      "\n",
      "At iterate   22    f=  6.11284D+00    |proj g|=  1.40318D-01\n",
      "\n",
      "At iterate   23    f=  6.11283D+00    |proj g|=  1.23839D-01\n",
      "  Positive dir derivative in projection \n",
      "  Using the backtracking step \n",
      "\n",
      "At iterate   24    f=  6.10935D+00    |proj g|=  1.93667D-01\n",
      "\n",
      "At iterate   25    f=  6.10878D+00    |proj g|=  1.25719D-01\n",
      "\n",
      "At iterate   26    f=  6.10870D+00    |proj g|=  4.47016D-02\n",
      "\n",
      "At iterate   27    f=  6.10866D+00    |proj g|=  7.68505D-03\n",
      "\n",
      "At iterate   28    f=  6.10866D+00    |proj g|=  1.10951D-03\n",
      "\n",
      "At iterate   29    f=  6.10866D+00    |proj g|=  3.36446D-04\n",
      "\n",
      "At iterate   30    f=  6.10866D+00    |proj g|=  3.36446D-04\n",
      "\n",
      "           * * *\n",
      "\n",
      "Tit   = total number of iterations\n",
      "Tnf   = total number of function evaluations\n",
      "Tnint = total number of segments explored during Cauchy searches\n",
      "Skip  = number of BFGS updates skipped\n",
      "Nact  = number of active bounds at final generalized Cauchy point\n",
      "Projg = norm of the final projected gradient\n",
      "F     = final function value\n",
      "\n",
      "           * * *\n",
      "\n",
      "   N    Tit     Tnf  Tnint  Skip  Nact     Projg        F\n",
      "    6     30     46     32     0     1   3.364D-04   6.109D+00\n",
      "  F =   6.1086614092216127     \n",
      "\n",
      "CONVERGENCE: REL_REDUCTION_OF_F_<=_FACTR*EPSMCH             \n"
     ]
    }
   ],
   "source": [
    "ets = ETSModel(ts_train, error=\"mul\", trend=None, seasonal=\"mul\")\n",
    "res = ets.fit()\n",
    "\n",
    "ts_ets_h = res.predict(start=ts_test.index[0], end=ts_test.index[-1])\n",
    "\n",
    "rmse = mean_squared_error(ts_test, ts_ets_h, squared=False)\n",
    "mae = mean_absolute_error(ts_test, ts_ets_h)\n",
    "mape = mean_absolute_percentage_error(ts_test, ts_ets_h)"
   ]
  },
  {
   "cell_type": "code",
   "execution_count": 45,
   "id": "25d0e2ea",
   "metadata": {},
   "outputs": [],
   "source": [
    "ets_model_path = \"ets.pickle\"\n",
    "artifacts = {\"ETS_model\": ets_model_path}\n",
    "res.save(ets_model_path)"
   ]
  },
  {
   "cell_type": "code",
   "execution_count": 47,
   "id": "a7011b8f",
   "metadata": {},
   "outputs": [],
   "source": [
    "PYTHON_VERSION = (\n",
    "    f\"{version_info.major}.{version_info.minor}.{version_info.micro}\"\n",
    ")\n",
    "\n",
    "conda_env = {\n",
    "    \"channels\": [\"defaults\"],\n",
    "    \"dependencies\": [\n",
    "        f\"python={PYTHON_VERSION}\",\n",
    "        \"pip\",\n",
    "        {\n",
    "            \"pip\": [\n",
    "                f\"mlflow=={mlflow.__version__}\",\n",
    "                f\"statsmodels=={statsmodels.__version__}\",\n",
    "                f\"cloudpickle=={cloudpickle.__version__}\",\n",
    "            ],\n",
    "        },\n",
    "    ],\n",
    "    \"name\": \"ets_env\",\n",
    "}"
   ]
  },
  {
   "cell_type": "code",
   "execution_count": 48,
   "id": "c61ef7fc",
   "metadata": {},
   "outputs": [],
   "source": [
    "class ETSPythonModel(mlflow.pyfunc.PythonModel):\n",
    "    \n",
    "    def load_context(self, context):\n",
    "        from statsmodels.tsa.exponential_smoothing.ets import ETSResults\n",
    "        \n",
    "        self.res = ETSResults.load(context.artifacts[\"ETS_model\"])\n",
    "\n",
    "    def predict(self, context, model_input, params=None):\n",
    "        start = model_input[\"start\"].iloc[0]\n",
    "        end = model_input[\"end\"].iloc[0]\n",
    "        \n",
    "        pred = self.res.get_prediction(\n",
    "            start=start, \n",
    "            end=end,\n",
    "        )\n",
    "        \n",
    "        return pred.summary_frame(alpha=0.05)"
   ]
  },
  {
   "cell_type": "code",
   "execution_count": 49,
   "id": "1f4b362d",
   "metadata": {},
   "outputs": [
    {
     "name": "stderr",
     "output_type": "stream",
     "text": [
      "Downloading artifacts: 100%|█████████████████████████████████████████████████████████████████| 1/1 [00:00<00:00, 373.09it/s]"
     ]
    },
    {
     "name": "stderr",
     "output_type": "stream",
     "text": [
      "\n",
      "/home/santiagopalmero/miniconda3/envs/fpp3/lib/python3.10/site-packages/_distutils_hack/__init__.py:18: UserWarning: Distutils was imported before Setuptools, but importing Setuptools also replaces the `distutils` module in `sys.modules`. This may lead to undesirable behaviors or errors. To avoid these issues, avoid using distutils directly, ensure that setuptools is installed in the traditional way (e.g. not an editable install), and/or make sure that setuptools is always imported before distutils.\n",
      "  warnings.warn(\n",
      "/home/santiagopalmero/miniconda3/envs/fpp3/lib/python3.10/site-packages/_distutils_hack/__init__.py:33: UserWarning: Setuptools is replacing distutils.\n",
      "  warnings.warn(\"Setuptools is replacing distutils.\")\n"
     ]
    }
   ],
   "source": [
    "with mlflow.start_run(run_name=\"ets\"):\n",
    "    mlflow.set_tag(\n",
    "        \"custom\", \n",
    "        \"Testing model development custom MLflow features.\",\n",
    "    )\n",
    "\n",
    "    mlflow.log_params(\n",
    "        {\n",
    "            \"error\": \"mul\",\n",
    "            \"trend\": None,\n",
    "            \"seasonal\": \"mul\",\n",
    "        }\n",
    "    )\n",
    "    mlflow.log_params({\"summary\": res.summary()})\n",
    "\n",
    "    mlflow.log_metric(\"rmse\", rmse)\n",
    "    mlflow.log_metric(\"mae\", mae)\n",
    "    mlflow.log_metric(\"mape\", mape)\n",
    "\n",
    "    mlflow_pyfunc_model_path = \"ETS_pyfunc\"\n",
    "    mlflow.pyfunc.log_model(\n",
    "        artifact_path=mlflow_pyfunc_model_path,\n",
    "        python_model=ETSPythonModel(),\n",
    "        artifacts=artifacts,\n",
    "        conda_env=conda_env,\n",
    "    )"
   ]
  },
  {
   "cell_type": "code",
   "execution_count": 50,
   "id": "2f36c618",
   "metadata": {},
   "outputs": [],
   "source": [
    "ets_uri = \"runs:/fca494d9bc8a4c6695c94bd5667fde6e/ETS_pyfunc\"\n",
    "ets_pyfunc = mlflow.pyfunc.load_model(model_uri=ets_uri)"
   ]
  },
  {
   "cell_type": "code",
   "execution_count": 51,
   "id": "cb1b7eda",
   "metadata": {},
   "outputs": [
    {
     "data": {
      "text/html": [
       "<div>\n",
       "<style scoped>\n",
       "    .dataframe tbody tr th:only-of-type {\n",
       "        vertical-align: middle;\n",
       "    }\n",
       "\n",
       "    .dataframe tbody tr th {\n",
       "        vertical-align: top;\n",
       "    }\n",
       "\n",
       "    .dataframe thead th {\n",
       "        text-align: right;\n",
       "    }\n",
       "</style>\n",
       "<table border=\"1\" class=\"dataframe\">\n",
       "  <thead>\n",
       "    <tr style=\"text-align: right;\">\n",
       "      <th></th>\n",
       "      <th>mean</th>\n",
       "      <th>mean_numerical</th>\n",
       "      <th>pi_lower</th>\n",
       "      <th>pi_upper</th>\n",
       "    </tr>\n",
       "  </thead>\n",
       "  <tbody>\n",
       "    <tr>\n",
       "      <th>2008-01-01</th>\n",
       "      <td>2253.187112</td>\n",
       "      <td>2247.073401</td>\n",
       "      <td>2011.449717</td>\n",
       "      <td>2516.969333</td>\n",
       "    </tr>\n",
       "    <tr>\n",
       "      <th>2008-04-01</th>\n",
       "      <td>2490.747411</td>\n",
       "      <td>2486.924200</td>\n",
       "      <td>2156.871388</td>\n",
       "      <td>2851.129462</td>\n",
       "    </tr>\n",
       "    <tr>\n",
       "      <th>2008-07-01</th>\n",
       "      <td>2573.875726</td>\n",
       "      <td>2566.919399</td>\n",
       "      <td>2156.407212</td>\n",
       "      <td>3041.033789</td>\n",
       "    </tr>\n",
       "    <tr>\n",
       "      <th>2008-10-01</th>\n",
       "      <td>2540.758414</td>\n",
       "      <td>2535.871206</td>\n",
       "      <td>2087.157634</td>\n",
       "      <td>3022.116970</td>\n",
       "    </tr>\n",
       "    <tr>\n",
       "      <th>2009-01-01</th>\n",
       "      <td>2253.187112</td>\n",
       "      <td>2248.851617</td>\n",
       "      <td>1811.792721</td>\n",
       "      <td>2752.310268</td>\n",
       "    </tr>\n",
       "    <tr>\n",
       "      <th>2009-04-01</th>\n",
       "      <td>2490.747411</td>\n",
       "      <td>2487.515398</td>\n",
       "      <td>1967.328635</td>\n",
       "      <td>3142.807288</td>\n",
       "    </tr>\n",
       "    <tr>\n",
       "      <th>2009-07-01</th>\n",
       "      <td>2573.875726</td>\n",
       "      <td>2570.408218</td>\n",
       "      <td>1992.151426</td>\n",
       "      <td>3269.563901</td>\n",
       "    </tr>\n",
       "    <tr>\n",
       "      <th>2009-10-01</th>\n",
       "      <td>2540.758414</td>\n",
       "      <td>2539.050590</td>\n",
       "      <td>1923.144015</td>\n",
       "      <td>3245.158942</td>\n",
       "    </tr>\n",
       "    <tr>\n",
       "      <th>2010-01-01</th>\n",
       "      <td>2253.187112</td>\n",
       "      <td>2254.873833</td>\n",
       "      <td>1688.024659</td>\n",
       "      <td>2955.048658</td>\n",
       "    </tr>\n",
       "    <tr>\n",
       "      <th>2010-04-01</th>\n",
       "      <td>2490.747411</td>\n",
       "      <td>2482.405954</td>\n",
       "      <td>1831.927245</td>\n",
       "      <td>3271.167142</td>\n",
       "    </tr>\n",
       "  </tbody>\n",
       "</table>\n",
       "</div>"
      ],
      "text/plain": [
       "                   mean  mean_numerical     pi_lower     pi_upper\n",
       "2008-01-01  2253.187112     2247.073401  2011.449717  2516.969333\n",
       "2008-04-01  2490.747411     2486.924200  2156.871388  2851.129462\n",
       "2008-07-01  2573.875726     2566.919399  2156.407212  3041.033789\n",
       "2008-10-01  2540.758414     2535.871206  2087.157634  3022.116970\n",
       "2009-01-01  2253.187112     2248.851617  1811.792721  2752.310268\n",
       "2009-04-01  2490.747411     2487.515398  1967.328635  3142.807288\n",
       "2009-07-01  2573.875726     2570.408218  1992.151426  3269.563901\n",
       "2009-10-01  2540.758414     2539.050590  1923.144015  3245.158942\n",
       "2010-01-01  2253.187112     2254.873833  1688.024659  2955.048658\n",
       "2010-04-01  2490.747411     2482.405954  1831.927245  3271.167142"
      ]
     },
     "execution_count": 51,
     "metadata": {},
     "output_type": "execute_result"
    }
   ],
   "source": [
    "start = pd.to_datetime(ts_test.index[0])\n",
    "end = pd.to_datetime(ts_test.index[-1])\n",
    "\n",
    "prediction_data = pd.DataFrame({\"start\": start, \"end\": end}, index=[0])\n",
    "\n",
    "ets_pyfunc.predict(prediction_data)"
   ]
  }
 ],
 "metadata": {
  "kernelspec": {
   "display_name": "Python 3 (ipykernel)",
   "language": "python",
   "name": "python3"
  },
  "language_info": {
   "codemirror_mode": {
    "name": "ipython",
    "version": 3
   },
   "file_extension": ".py",
   "mimetype": "text/x-python",
   "name": "python",
   "nbconvert_exporter": "python",
   "pygments_lexer": "ipython3",
   "version": "3.10.13"
  }
 },
 "nbformat": 4,
 "nbformat_minor": 5
}
