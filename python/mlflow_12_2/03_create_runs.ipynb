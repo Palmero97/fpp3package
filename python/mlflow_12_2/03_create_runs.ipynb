{
 "cells": [
  {
   "cell_type": "markdown",
   "id": "47504034",
   "metadata": {},
   "source": [
    "# Objective\n",
    "The objetive of this notebook is to create models to forecast our cement production data. We will test different forecasting models, each with several hyperparameter configurations, and store results in MLflow.\n",
    "\n",
    "# Description of the data\n",
    "The dataset is quaterly cement production data."
   ]
  },
  {
   "cell_type": "markdown",
   "metadata": {},
   "source": [
    "# Imports, configuration and constants"
   ]
  },
  {
   "cell_type": "code",
   "execution_count": 27,
   "metadata": {},
   "outputs": [],
   "source": [
    "import matplotlib.pyplot as plt\n",
    "import mlflow\n",
    "import pandas as pd\n",
    "\n",
    "from mlflow.models import infer_signature\n",
    "from prophet import Prophet\n",
    "from sklearn.metrics import mean_squared_error\n",
    "from sklearn.metrics import mean_absolute_error\n",
    "from sklearn.metrics import mean_absolute_percentage_error\n",
    "from statsmodels.tsa.exponential_smoothing.ets import ETSModel\n",
    "from statsmodels.tsa.arima.model import ARIMA\n",
    "from statsmodels.tsa.statespace.sarimax import SARIMAX\n",
    "\n",
    "import utils as ut"
   ]
  },
  {
   "cell_type": "code",
   "execution_count": 2,
   "metadata": {},
   "outputs": [
    {
     "data": {
      "text/plain": [
       "<module 'utils' from '/home/santiagopalmero/repos/fpp3package/python/mlflow/utils.py'>"
      ]
     },
     "execution_count": 2,
     "metadata": {},
     "output_type": "execute_result"
    }
   ],
   "source": [
    "import importlib\n",
    "importlib.reload(ut)"
   ]
  },
  {
   "cell_type": "code",
   "execution_count": 3,
   "metadata": {},
   "outputs": [],
   "source": [
    "plt.rc(\"figure\", figsize=(16, 12))\n",
    "plt.rc(\"font\", size=13)"
   ]
  },
  {
   "cell_type": "code",
   "execution_count": 4,
   "metadata": {},
   "outputs": [],
   "source": [
    "PLOT_TITLE = \"AUS cement production\"\n",
    "PLOT_YLABEL = \"Cement\"\n",
    "PLOT_XLABEL = \"Quarter\"\n",
    "\n",
    "PLOT_KWARGS = {\n",
    "    \"title\": PLOT_TITLE,\n",
    "    \"ylabel\": PLOT_YLABEL,\n",
    "    \"xlabel\": PLOT_XLABEL,\n",
    "}"
   ]
  },
  {
   "cell_type": "markdown",
   "metadata": {},
   "source": [
    "# Load data"
   ]
  },
  {
   "cell_type": "code",
   "execution_count": 5,
   "metadata": {},
   "outputs": [],
   "source": [
    "ts_train = ut.read_csv_series(\"data/ts_train.csv\")\n",
    "ts_test = ut.read_csv_series(\"data/ts_test.csv\")"
   ]
  },
  {
   "cell_type": "code",
   "execution_count": 6,
   "metadata": {},
   "outputs": [],
   "source": [
    "ts_train.index = pd.to_datetime(ts_train.index)\n",
    "ts_train = ts_train.asfreq('QS-OCT')\n",
    "\n",
    "ts_test.index = pd.to_datetime(ts_test.index)\n",
    "ts_test = ts_test.asfreq('QS-OCT')"
   ]
  },
  {
   "cell_type": "markdown",
   "metadata": {},
   "source": [
    "# Set experiment"
   ]
  },
  {
   "cell_type": "code",
   "execution_count": 7,
   "metadata": {},
   "outputs": [
    {
     "data": {
      "text/plain": [
       "<Experiment: artifact_location='file:///home/santiagopalmero/repos/fpp3package/python/mlflow/mlruns/570366757150847423', creation_time=1701436591943, experiment_id='570366757150847423', last_update_time=1701436591943, lifecycle_stage='active', name='Cement_Forecasting', tags={'mlflow.note.content': 'Project about cement production forecasting. This '\n",
       "                        'experiment contains several forecasting models.',\n",
       " 'project_name': 'forecasting'}>"
      ]
     },
     "execution_count": 7,
     "metadata": {},
     "output_type": "execute_result"
    }
   ],
   "source": [
    "mlflow.set_experiment(\"Cement_Forecasting\")"
   ]
  },
  {
   "cell_type": "code",
   "execution_count": null,
   "metadata": {},
   "outputs": [],
   "source": [
    "# One option that we have is to use autolog. I have tested and I dont dont find\n",
    "# it very useful for this use case. I prefer to manually structure and log\n",
    "# my models and metrics\n",
    "\n",
    "# mlflow.statsmodels.autolog(\n",
    "#     log_models=True,\n",
    "#     disable=False,\n",
    "#     exclusive=False,\n",
    "#     disable_for_unsupported_versions=False,\n",
    "#     silent=False,\n",
    "#     registered_model_name=None,\n",
    "# )"
   ]
  },
  {
   "cell_type": "markdown",
   "metadata": {},
   "source": [
    "# Forecasting\n",
    "\n",
    "## ARIMA\n",
    "\n",
    "From the https://otexts.com/fpp3/arima-ets.html#comparing-arima-and-ets-on-seasonal-data section we know that the model that was used is `ARIMA(1,0,1)(2,1,1)[4] w/ drift`.\n",
    "\n",
    "The drift concept is better explained in the previous version of the book https://otexts.com/fpp2/arima-r.html. In this link we can see an explanation about the drift in statsmodels https://stackoverflow.com/questions/66651360/arima-forecast-gives-different-results-with-new-python-statsmodels."
   ]
  },
  {
   "cell_type": "code",
   "execution_count": 24,
   "metadata": {},
   "outputs": [],
   "source": [
    "order = (1,0,1)\n",
    "seasonal_order = (2,1,1,4)\n",
    "\n",
    "arima = ARIMA(\n",
    "    endog=ts_train, \n",
    "    order=order, \n",
    "    seasonal_order=seasonal_order, \n",
    "    # trend=\"t\",\n",
    ")\n",
    "res = arima.fit()\n",
    "\n",
    "ts_arima_h = res.predict(start=ts_test.index[0], end=ts_test.index[-1])\n",
    "\n",
    "rmse = mean_squared_error(ts_test, ts_arima_h, squared=False)\n",
    "mae = mean_absolute_error(ts_test, ts_arima_h)\n",
    "mape = mean_absolute_percentage_error(ts_test, ts_arima_h)"
   ]
  },
  {
   "cell_type": "code",
   "execution_count": 25,
   "metadata": {},
   "outputs": [
    {
     "name": "stderr",
     "output_type": "stream",
     "text": [
      "/home/santiagopalmero/miniconda3/envs/fpp3/lib/python3.10/site-packages/_distutils_hack/__init__.py:18: UserWarning: Distutils was imported before Setuptools, but importing Setuptools also replaces the `distutils` module in `sys.modules`. This may lead to undesirable behaviors or errors. To avoid these issues, avoid using distutils directly, ensure that setuptools is installed in the traditional way (e.g. not an editable install), and/or make sure that setuptools is always imported before distutils.\n",
      "  warnings.warn(\n",
      "/home/santiagopalmero/miniconda3/envs/fpp3/lib/python3.10/site-packages/_distutils_hack/__init__.py:33: UserWarning: Setuptools is replacing distutils.\n",
      "  warnings.warn(\"Setuptools is replacing distutils.\")\n"
     ]
    }
   ],
   "source": [
    "with mlflow.start_run(run_name=\"arima\"):\n",
    "    mlflow.set_tag(\n",
    "        \"basic\", \n",
    "        \"Testing model development basic MLflow features.\",\n",
    "    )\n",
    "\n",
    "    mlflow.log_params(\n",
    "        {\n",
    "            \"order\": order,\n",
    "            \"seasonal_order\": arima.seasonal_order,\n",
    "            \"trend\": arima.trend,\n",
    "        }\n",
    "    )\n",
    "    mlflow.log_params(res.params)\n",
    "    mlflow.log_params({\"summary\": res.summary()})\n",
    "\n",
    "    mlflow.log_metric(\"rmse\", rmse)\n",
    "    mlflow.log_metric(\"mae\", mae)\n",
    "    mlflow.log_metric(\"mape\", mape)\n",
    "\n",
    "    model_info = mlflow.statsmodels.log_model(\n",
    "        res, \n",
    "        artifact_path=\"ARIMA_model\",\n",
    "    )"
   ]
  },
  {
   "cell_type": "markdown",
   "metadata": {},
   "source": [
    "There are [differences in implementation](https://www.statsmodels.org/dev/examples/notebooks/generated/statespace_sarimax_faq.html#Differences-between-trend-and-exog-in-SARIMAX) between the class `ARIMA` and `SARIMAX`. So, lets try also this second one as the first one is not allowing as to add the constant term (drift)."
   ]
  },
  {
   "cell_type": "code",
   "execution_count": 36,
   "metadata": {},
   "outputs": [
    {
     "name": "stdout",
     "output_type": "stream",
     "text": [
      "RUNNING THE L-BFGS-B CODE\n",
      "\n",
      "           * * *\n",
      "\n",
      "Machine precision = 2.220D-16\n",
      " N =            7     M =           10\n",
      "\n",
      "At X0         0 variables are exactly at the bounds\n",
      "\n",
      "At iterate    0    f=  5.93161D+00    |proj g|=  2.14605D-01\n",
      "\n",
      "At iterate    5    f=  5.85403D+00    |proj g|=  3.80578D-02\n",
      "\n",
      "At iterate   10    f=  5.85147D+00    |proj g|=  1.37646D-02\n"
     ]
    },
    {
     "name": "stderr",
     "output_type": "stream",
     "text": [
      " This problem is unconstrained.\n"
     ]
    },
    {
     "name": "stdout",
     "output_type": "stream",
     "text": [
      "\n",
      "At iterate   15    f=  5.85027D+00    |proj g|=  3.39077D-02\n",
      "\n",
      "At iterate   20    f=  5.82684D+00    |proj g|=  1.33501D-01\n",
      "\n",
      "At iterate   25    f=  5.80155D+00    |proj g|=  5.88010D-03\n",
      "\n",
      "At iterate   30    f=  5.79975D+00    |proj g|=  6.18598D-03\n",
      "\n",
      "At iterate   35    f=  5.79736D+00    |proj g|=  3.61733D-03\n",
      "\n",
      "At iterate   40    f=  5.79388D+00    |proj g|=  1.10395D-02\n",
      "\n",
      "At iterate   45    f=  5.78620D+00    |proj g|=  2.96676D-02\n",
      "\n",
      "At iterate   50    f=  5.78534D+00    |proj g|=  4.97323D-04\n",
      "\n",
      "           * * *\n",
      "\n",
      "Tit   = total number of iterations\n",
      "Tnf   = total number of function evaluations\n",
      "Tnint = total number of segments explored during Cauchy searches\n",
      "Skip  = number of BFGS updates skipped\n",
      "Nact  = number of active bounds at final generalized Cauchy point\n",
      "Projg = norm of the final projected gradient\n",
      "F     = final function value\n",
      "\n",
      "           * * *\n",
      "\n",
      "   N    Tit     Tnf  Tnint  Skip  Nact     Projg        F\n",
      "    7     50     63      1     0     0   4.973D-04   5.785D+00\n",
      "  F =   5.7853441806304939     \n",
      "\n",
      "STOP: TOTAL NO. of ITERATIONS REACHED LIMIT                 \n"
     ]
    },
    {
     "name": "stderr",
     "output_type": "stream",
     "text": [
      "/home/santiagopalmero/miniconda3/envs/fpp3/lib/python3.10/site-packages/statsmodels/base/model.py:607: ConvergenceWarning: Maximum Likelihood optimization failed to converge. Check mle_retvals\n",
      "  warnings.warn(\"Maximum Likelihood optimization failed to \"\n"
     ]
    }
   ],
   "source": [
    "sarimax = SARIMAX(\n",
    "    endog=ts_train, \n",
    "    order=order, \n",
    "    seasonal_order=seasonal_order, \n",
    "    trend=\"c\",\n",
    ")\n",
    "res = sarimax.fit()\n",
    "\n",
    "ts_sarimax_h = res.predict(start=ts_test.index[0], end=ts_test.index[-1])\n",
    "\n",
    "rmse = mean_squared_error(ts_test, ts_sarimax_h, squared=False)\n",
    "mae = mean_absolute_error(ts_test, ts_sarimax_h)\n",
    "mape = mean_absolute_percentage_error(ts_test, ts_sarimax_h)"
   ]
  },
  {
   "cell_type": "code",
   "execution_count": 37,
   "metadata": {},
   "outputs": [
    {
     "name": "stderr",
     "output_type": "stream",
     "text": [
      "/home/santiagopalmero/miniconda3/envs/fpp3/lib/python3.10/site-packages/_distutils_hack/__init__.py:18: UserWarning: Distutils was imported before Setuptools, but importing Setuptools also replaces the `distutils` module in `sys.modules`. This may lead to undesirable behaviors or errors. To avoid these issues, avoid using distutils directly, ensure that setuptools is installed in the traditional way (e.g. not an editable install), and/or make sure that setuptools is always imported before distutils.\n",
      "  warnings.warn(\n",
      "/home/santiagopalmero/miniconda3/envs/fpp3/lib/python3.10/site-packages/_distutils_hack/__init__.py:33: UserWarning: Setuptools is replacing distutils.\n",
      "  warnings.warn(\"Setuptools is replacing distutils.\")\n"
     ]
    }
   ],
   "source": [
    "with mlflow.start_run(run_name=\"sarimax\"):\n",
    "    mlflow.set_tag(\n",
    "        \"basic\", \n",
    "        \"Testing model development basic MLflow features.\",\n",
    "    )\n",
    "\n",
    "    mlflow.log_params(\n",
    "        {\n",
    "            \"order\": order,\n",
    "            \"seasonal_order\": sarimax.seasonal_order,\n",
    "            \"trend\": sarimax.trend,\n",
    "        }\n",
    "    )\n",
    "    mlflow.log_params(res.params)\n",
    "    mlflow.log_params({\"summary\": res.summary()})\n",
    "\n",
    "    mlflow.log_metric(\"rmse\", rmse)\n",
    "    mlflow.log_metric(\"mae\", mae)\n",
    "    mlflow.log_metric(\"mape\", mape)\n",
    "\n",
    "    model_info = mlflow.statsmodels.log_model(\n",
    "        res, \n",
    "        artifact_path=\"SARIMAX_model\",\n",
    "    )"
   ]
  },
  {
   "cell_type": "markdown",
   "metadata": {},
   "source": [
    "As we can see in the MLflow gui this implementation matches the one of the book."
   ]
  },
  {
   "cell_type": "markdown",
   "metadata": {},
   "source": [
    "## ETS\n",
    "From the books example in https://otexts.com/fpp3/arima-ets.html we can see the type of ETS model finally selected is ETS(M,N,M). From the R documentation https://www.rdocumentation.org/packages/forecast/versions/8.21/topics/ets we know that:\n",
    "- The first letter denotes the error type (\"A\", \"M\" or \"Z\");\n",
    "- The second letter denotes the trend type (\"N\",\"A\",\"M\" or \"Z\")\n",
    "- The third letter denotes the season type (\"N\",\"A\",\"M\" or \"Z\").\n",
    "- In all cases, \"N\"=none, \"A\"=additive, \"M\"=multiplicative and \"Z\"=automatically selected"
   ]
  },
  {
   "cell_type": "code",
   "execution_count": 18,
   "metadata": {},
   "outputs": [
    {
     "name": "stdout",
     "output_type": "stream",
     "text": [
      "RUNNING THE L-BFGS-B CODE\n",
      "\n",
      "           * * *\n",
      "\n",
      "Machine precision = 2.220D-16\n",
      " N =            6     M =           10\n",
      "\n",
      "At X0         0 variables are exactly at the bounds\n",
      "\n",
      "At iterate    0    f=  6.91324D+00    |proj g|=  2.15029D+00\n",
      "\n",
      "At iterate    1    f=  6.84699D+00    |proj g|=  1.65803D+00\n",
      "\n",
      "At iterate    2    f=  6.42640D+00    |proj g|=  4.69153D-01\n",
      "\n",
      "At iterate    3    f=  6.34069D+00    |proj g|=  4.86073D-01\n",
      "\n",
      "At iterate    4    f=  6.26445D+00    |proj g|=  4.72329D-01\n",
      "\n",
      "At iterate    5    f=  6.22885D+00    |proj g|=  3.81426D-01\n",
      "\n",
      "At iterate    6    f=  6.18920D+00    |proj g|=  2.63642D-01\n",
      "\n",
      "At iterate    7    f=  6.16398D+00    |proj g|=  4.70483D-01\n",
      "\n",
      "At iterate    8    f=  6.15694D+00    |proj g|=  2.18301D-01\n",
      "\n",
      "At iterate    9    f=  6.15418D+00    |proj g|=  9.72367D-02\n",
      "\n",
      "At iterate   10    f=  6.15325D+00    |proj g|=  6.66425D-02\n",
      "\n",
      "At iterate   11    f=  6.15227D+00    |proj g|=  6.25598D-02\n",
      "\n",
      "At iterate   12    f=  6.14968D+00    |proj g|=  9.14247D-02\n",
      "\n",
      "At iterate   13    f=  6.14792D+00    |proj g|=  8.17434D-02\n",
      "\n",
      "At iterate   14    f=  6.14453D+00    |proj g|=  1.45931D-01\n",
      "\n",
      "At iterate   15    f=  6.14215D+00    |proj g|=  2.48835D-01\n",
      "\n",
      "At iterate   16    f=  6.13816D+00    |proj g|=  6.15571D-01\n",
      "\n",
      "At iterate   17    f=  6.12260D+00    |proj g|=  5.20378D-01\n",
      "\n",
      "At iterate   18    f=  6.12260D+00    |proj g|=  5.17120D-01\n",
      "\n",
      "At iterate   19    f=  6.11738D+00    |proj g|=  4.85755D-01\n",
      "  Positive dir derivative in projection \n",
      "  Using the backtracking step \n",
      "\n",
      "At iterate   20    f=  6.11294D+00    |proj g|=  2.05450D-01\n",
      "\n",
      "At iterate   21    f=  6.11284D+00    |proj g|=  1.45031D-01\n",
      "\n",
      "At iterate   22    f=  6.11284D+00    |proj g|=  1.40318D-01\n",
      "\n",
      "At iterate   23    f=  6.11283D+00    |proj g|=  1.23839D-01\n",
      "  Positive dir derivative in projection \n",
      "  Using the backtracking step \n",
      "\n",
      "At iterate   24    f=  6.10935D+00    |proj g|=  1.93667D-01\n",
      "\n",
      "At iterate   25    f=  6.10878D+00    |proj g|=  1.25719D-01\n",
      "\n",
      "At iterate   26    f=  6.10870D+00    |proj g|=  4.47016D-02\n",
      "\n",
      "At iterate   27    f=  6.10866D+00    |proj g|=  7.68505D-03\n",
      "\n",
      "At iterate   28    f=  6.10866D+00    |proj g|=  1.10951D-03\n",
      "\n",
      "At iterate   29    f=  6.10866D+00    |proj g|=  3.36446D-04\n",
      "\n",
      "At iterate   30    f=  6.10866D+00    |proj g|=  3.36446D-04\n",
      "\n",
      "           * * *\n",
      "\n",
      "Tit   = total number of iterations\n",
      "Tnf   = total number of function evaluations\n",
      "Tnint = total number of segments explored during Cauchy searches\n",
      "Skip  = number of BFGS updates skipped\n",
      "Nact  = number of active bounds at final generalized Cauchy point\n",
      "Projg = norm of the final projected gradient\n",
      "F     = final function value\n",
      "\n",
      "           * * *\n",
      "\n",
      "   N    Tit     Tnf  Tnint  Skip  Nact     Projg        F\n",
      "    6     30     46     32     0     1   3.364D-04   6.109D+00\n",
      "  F =   6.1086614092216127     \n",
      "\n",
      "CONVERGENCE: REL_REDUCTION_OF_F_<=_FACTR*EPSMCH             \n"
     ]
    }
   ],
   "source": [
    "ets = ETSModel(ts_train, error=\"mul\", trend=None, seasonal=\"mul\")\n",
    "res = ets.fit()\n",
    "\n",
    "ts_ets_h = res.predict(start=ts_test.index[0], end=ts_test.index[-1])\n",
    "\n",
    "rmse = mean_squared_error(ts_test, ts_ets_h, squared=False)\n",
    "mae = mean_absolute_error(ts_test, ts_ets_h)\n",
    "mape = mean_absolute_percentage_error(ts_test, ts_ets_h)"
   ]
  },
  {
   "cell_type": "code",
   "execution_count": 19,
   "metadata": {},
   "outputs": [
    {
     "name": "stderr",
     "output_type": "stream",
     "text": [
      "/home/santiagopalmero/miniconda3/envs/fpp3/lib/python3.10/site-packages/_distutils_hack/__init__.py:18: UserWarning: Distutils was imported before Setuptools, but importing Setuptools also replaces the `distutils` module in `sys.modules`. This may lead to undesirable behaviors or errors. To avoid these issues, avoid using distutils directly, ensure that setuptools is installed in the traditional way (e.g. not an editable install), and/or make sure that setuptools is always imported before distutils.\n",
      "  warnings.warn(\n",
      "/home/santiagopalmero/miniconda3/envs/fpp3/lib/python3.10/site-packages/_distutils_hack/__init__.py:33: UserWarning: Setuptools is replacing distutils.\n",
      "  warnings.warn(\"Setuptools is replacing distutils.\")\n"
     ]
    }
   ],
   "source": [
    "with mlflow.start_run(run_name=\"ets\"):\n",
    "    mlflow.set_tag(\n",
    "        \"basic\", \n",
    "        \"Testing model development basic MLflow features.\",\n",
    "    )\n",
    "\n",
    "    mlflow.log_params(\n",
    "        {\n",
    "            \"error\": \"mul\",\n",
    "            \"trend\": None,\n",
    "            \"seasonal\": \"mul\",\n",
    "        }\n",
    "    )\n",
    "    mlflow.log_params({\"summary\": res.summary()})\n",
    "\n",
    "    mlflow.log_metric(\"rmse\", rmse)\n",
    "    mlflow.log_metric(\"mae\", mae)\n",
    "    mlflow.log_metric(\"mape\", mape)\n",
    "\n",
    "    model_info = mlflow.statsmodels.log_model(\n",
    "        res, \n",
    "        artifact_path=\"ETS_model\",\n",
    "    )"
   ]
  },
  {
   "cell_type": "markdown",
   "metadata": {},
   "source": [
    "## Prophet\n",
    "Again, we copy the model from the book https://otexts.com/fpp3/prophet.html."
   ]
  },
  {
   "cell_type": "code",
   "execution_count": 38,
   "metadata": {},
   "outputs": [],
   "source": [
    "df_train = (\n",
    "    pd.DataFrame({\n",
    "        'ds': ts_train.index.tolist(),\n",
    "        'y': ts_train\n",
    "    })\n",
    "    .reset_index(drop=True)\n",
    ")"
   ]
  },
  {
   "cell_type": "code",
   "execution_count": 39,
   "metadata": {},
   "outputs": [
    {
     "name": "stderr",
     "output_type": "stream",
     "text": [
      "17:17:19 - cmdstanpy - INFO - Chain [1] start processing\n",
      "17:17:19 - cmdstanpy - INFO - Chain [1] done processing\n"
     ]
    }
   ],
   "source": [
    "m = Prophet()\n",
    "m.add_seasonality(name='q', period=4, fourier_order=2, mode='multiplicative')\n",
    "m.fit(df_train)\n",
    "\n",
    "ts_pro_h, _, _ = ut.prophet_predict_w_interval(m, ts_test)\n",
    "\n",
    "rmse = mean_squared_error(ts_test, ts_pro_h, squared=False)\n",
    "mae = mean_absolute_error(ts_test, ts_pro_h)\n",
    "mape = mean_absolute_percentage_error(ts_test, ts_pro_h)"
   ]
  },
  {
   "cell_type": "code",
   "execution_count": 52,
   "metadata": {},
   "outputs": [
    {
     "name": "stderr",
     "output_type": "stream",
     "text": [
      "/home/santiagopalmero/miniconda3/envs/fpp3/lib/python3.10/site-packages/_distutils_hack/__init__.py:18: UserWarning: Distutils was imported before Setuptools, but importing Setuptools also replaces the `distutils` module in `sys.modules`. This may lead to undesirable behaviors or errors. To avoid these issues, avoid using distutils directly, ensure that setuptools is installed in the traditional way (e.g. not an editable install), and/or make sure that setuptools is always imported before distutils.\n",
      "  warnings.warn(\n",
      "/home/santiagopalmero/miniconda3/envs/fpp3/lib/python3.10/site-packages/_distutils_hack/__init__.py:33: UserWarning: Setuptools is replacing distutils.\n",
      "  warnings.warn(\"Setuptools is replacing distutils.\")\n"
     ]
    }
   ],
   "source": [
    "with mlflow.start_run(run_name=\"prophet\"):\n",
    "    mlflow.set_tag(\n",
    "        \"basic\", \n",
    "        \"Testing model development basic MLflow features.\",\n",
    "    )\n",
    "\n",
    "    mlflow.log_params(\n",
    "        {\n",
    "            \"seasonality_q\": \"q\",\n",
    "            \"seasonality_period\": 4,\n",
    "            \"seasonality_fourier_order\": 2,\n",
    "            \"seasonality_model\": \"multiplicative\",\n",
    "        }\n",
    "    )\n",
    "\n",
    "    mlflow.log_metric(\"rmse\", rmse)\n",
    "    mlflow.log_metric(\"mae\", mae)\n",
    "    mlflow.log_metric(\"mape\", mape)\n",
    "\n",
    "    # Instead of using df_train as input for infer_signature, we need to use the\n",
    "    # the future df. If we dont do this, when we load the model we will need to \n",
    "    # create a df with the \"y\" column and this does not make sense for predict.\n",
    "    future_df = m.make_future_dataframe(\n",
    "        len(ts_test), \n",
    "        freq=\"QS-OCT\", \n",
    "        include_history=False,\n",
    "    )\n",
    "    signature = infer_signature(future_df)\n",
    "\n",
    "    model_info = mlflow.prophet.log_model(\n",
    "        m, \n",
    "        artifact_path=\"Prophet_model\",\n",
    "        signature=signature,\n",
    "        # input_example=df_train.head(),\n",
    "    )"
   ]
  }
 ],
 "metadata": {
  "kernelspec": {
   "display_name": "Python 3 (ipykernel)",
   "language": "python",
   "name": "python3"
  },
  "language_info": {
   "codemirror_mode": {
    "name": "ipython",
    "version": 3
   },
   "file_extension": ".py",
   "mimetype": "text/x-python",
   "name": "python",
   "nbconvert_exporter": "python",
   "pygments_lexer": "ipython3",
   "version": "3.10.13"
  }
 },
 "nbformat": 4,
 "nbformat_minor": 5
}
